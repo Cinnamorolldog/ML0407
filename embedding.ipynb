{
  "nbformat": 4,
  "nbformat_minor": 0,
  "metadata": {
    "colab": {
      "name": "embedding.ipynb",
      "provenance": []
    },
    "kernelspec": {
      "name": "python3",
      "display_name": "Python 3"
    }
  },
  "cells": [
    {
      "cell_type": "code",
      "metadata": {
        "id": "ZZLxZX82bA_z",
        "colab_type": "code",
        "colab": {
          "base_uri": "https://localhost:8080/",
          "height": 50
        },
        "outputId": "bfefaaca-cb57-4c50-916c-7c8c940163c1"
      },
      "source": [
        "import tensorflow as tf\n",
        "\n",
        "dataset = tf.keras.utils.get_file(\n",
        "    fname=\"aclImdb.tar.gz\", \n",
        "    origin=\"http://ai.stanford.edu/~amaas/data/sentiment/aclImdb_v1.tar.gz\", \n",
        "    extract=True,\n",
        ")"
      ],
      "execution_count": 1,
      "outputs": [
        {
          "output_type": "stream",
          "text": [
            "Downloading data from http://ai.stanford.edu/~amaas/data/sentiment/aclImdb_v1.tar.gz\n",
            "84131840/84125825 [==============================] - 8s 0us/step\n"
          ],
          "name": "stdout"
        }
      ]
    },
    {
      "cell_type": "code",
      "metadata": {
        "id": "vqDSpayeid0c",
        "colab_type": "code",
        "colab": {}
      },
      "source": [
        "def get_data(n):\n",
        "    train_dn = os.path.join(dn, n)\n",
        "    contents = []\n",
        "    sentiment = []\n",
        "    pos_fn = os.path.join(train_dn, \"pos\", \"*.txt\")\n",
        "    for fn in glob.glob(pos_fn):\n",
        "        with open(fn, \"r\", encoding=\"utf-8\") as f:\n",
        "            contents.append(f.read())\n",
        "            sentiment.append(1)\n",
        "\n",
        "    neg_fn = os.path.join(train_dn, \"neg\", \"*.txt\")\n",
        "    for fn in glob.glob(neg_fn):\n",
        "        with open(fn, \"r\", encoding=\"utf-8\") as f:\n",
        "            contents.append(f.read())\n",
        "            sentiment.append(0)\n",
        "\n",
        "    df = pd.DataFrame({\n",
        "        \"content\":contents,\n",
        "        \"sentiment\":sentiment\n",
        "    }, columns=[\"content\", \"sentiment\"])\n",
        "    return df"
      ],
      "execution_count": 0,
      "outputs": []
    },
    {
      "cell_type": "code",
      "metadata": {
        "id": "tFth4UnTfSB1",
        "colab_type": "code",
        "colab": {
          "base_uri": "https://localhost:8080/",
          "height": 402
        },
        "outputId": "b4af5857-bd04-4139-fe25-f1a5007deafb"
      },
      "source": [
        "import os\n",
        "import glob\n",
        "import pandas as pd\n",
        "\n",
        "dn = os.path.dirname(dataset)\n",
        "dn = os.path.join(dn, \"aclImdb\")\n",
        "\n",
        "train_df = get_data(\"train\")\n",
        "test_df = get_data(\"test\")\n",
        "test_df"
      ],
      "execution_count": 16,
      "outputs": [
        {
          "output_type": "execute_result",
          "data": {
            "text/html": [
              "<div>\n",
              "<style scoped>\n",
              "    .dataframe tbody tr th:only-of-type {\n",
              "        vertical-align: middle;\n",
              "    }\n",
              "\n",
              "    .dataframe tbody tr th {\n",
              "        vertical-align: top;\n",
              "    }\n",
              "\n",
              "    .dataframe thead th {\n",
              "        text-align: right;\n",
              "    }\n",
              "</style>\n",
              "<table border=\"1\" class=\"dataframe\">\n",
              "  <thead>\n",
              "    <tr style=\"text-align: right;\">\n",
              "      <th></th>\n",
              "      <th>content</th>\n",
              "      <th>sentiment</th>\n",
              "    </tr>\n",
              "  </thead>\n",
              "  <tbody>\n",
              "    <tr>\n",
              "      <th>0</th>\n",
              "      <td>Fair and nifty little science fiction/horror f...</td>\n",
              "      <td>1</td>\n",
              "    </tr>\n",
              "    <tr>\n",
              "      <th>1</th>\n",
              "      <td>I think Gerard's comments on the doc hit the n...</td>\n",
              "      <td>1</td>\n",
              "    </tr>\n",
              "    <tr>\n",
              "      <th>2</th>\n",
              "      <td>This is one of the best Czech movies I have ev...</td>\n",
              "      <td>1</td>\n",
              "    </tr>\n",
              "    <tr>\n",
              "      <th>3</th>\n",
              "      <td>This film, for what it was set out to be, succ...</td>\n",
              "      <td>1</td>\n",
              "    </tr>\n",
              "    <tr>\n",
              "      <th>4</th>\n",
              "      <td>Excellent performance by Mary KAy Place, Steve...</td>\n",
              "      <td>1</td>\n",
              "    </tr>\n",
              "    <tr>\n",
              "      <th>...</th>\n",
              "      <td>...</td>\n",
              "      <td>...</td>\n",
              "    </tr>\n",
              "    <tr>\n",
              "      <th>24995</th>\n",
              "      <td>First I have to say that I have read everythin...</td>\n",
              "      <td>0</td>\n",
              "    </tr>\n",
              "    <tr>\n",
              "      <th>24996</th>\n",
              "      <td>\"The Duke\" is a film based in the heart of the...</td>\n",
              "      <td>0</td>\n",
              "    </tr>\n",
              "    <tr>\n",
              "      <th>24997</th>\n",
              "      <td>So we're supposed to find it funny that this w...</td>\n",
              "      <td>0</td>\n",
              "    </tr>\n",
              "    <tr>\n",
              "      <th>24998</th>\n",
              "      <td>This show had a promising start as sort of the...</td>\n",
              "      <td>0</td>\n",
              "    </tr>\n",
              "    <tr>\n",
              "      <th>24999</th>\n",
              "      <td>I can imagine what happened for this film to c...</td>\n",
              "      <td>0</td>\n",
              "    </tr>\n",
              "  </tbody>\n",
              "</table>\n",
              "<p>25000 rows × 2 columns</p>\n",
              "</div>"
            ],
            "text/plain": [
              "                                                 content  sentiment\n",
              "0      Fair and nifty little science fiction/horror f...          1\n",
              "1      I think Gerard's comments on the doc hit the n...          1\n",
              "2      This is one of the best Czech movies I have ev...          1\n",
              "3      This film, for what it was set out to be, succ...          1\n",
              "4      Excellent performance by Mary KAy Place, Steve...          1\n",
              "...                                                  ...        ...\n",
              "24995  First I have to say that I have read everythin...          0\n",
              "24996  \"The Duke\" is a film based in the heart of the...          0\n",
              "24997  So we're supposed to find it funny that this w...          0\n",
              "24998  This show had a promising start as sort of the...          0\n",
              "24999  I can imagine what happened for this film to c...          0\n",
              "\n",
              "[25000 rows x 2 columns]"
            ]
          },
          "metadata": {
            "tags": []
          },
          "execution_count": 16
        }
      ]
    }
  ]
}