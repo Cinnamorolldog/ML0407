{
 "cells": [
  {
   "cell_type": "code",
   "execution_count": 1,
   "metadata": {},
   "outputs": [],
   "source": [
    "import pandas as pd\n",
    "train_df = pd.read_csv(\"train.csv\", encoding=\"utf-8\")\n",
    "test_df = pd.read_csv(\"test.csv\", encoding=\"utf-8\")"
   ]
  },
  {
   "cell_type": "code",
   "execution_count": 6,
   "metadata": {
    "collapsed": true
   },
   "outputs": [
    {
     "data": {
      "text/plain": [
       "PassengerId      0\n",
       "Survived         0\n",
       "Pclass           0\n",
       "Name             0\n",
       "Sex              0\n",
       "Age            177\n",
       "SibSp            0\n",
       "Parch            0\n",
       "Ticket           0\n",
       "Fare             0\n",
       "Cabin          687\n",
       "Embarked         2\n",
       "dtype: int64"
      ]
     },
     "execution_count": 6,
     "metadata": {},
     "output_type": "execute_result"
    }
   ],
   "source": [
    "train_df.isna().sum()"
   ]
  },
  {
   "cell_type": "code",
   "execution_count": 8,
   "metadata": {},
   "outputs": [],
   "source": [
    "med = train_df.median()\n",
    "train_df = train_df.fillna(med)\n",
    "test_df = test_df.fillna(med)"
   ]
  },
  {
   "cell_type": "code",
   "execution_count": 13,
   "metadata": {},
   "outputs": [],
   "source": [
    "most = train_df[\"Embarked\"].value_counts().idxmax()\n",
    "train_df[\"Embarked\"] = train_df[\"Embarked\"].fillna(most)\n",
    "test_df[\"Embarked\"] = test_df[\"Embarked\"].fillna(most)"
   ]
  },
  {
   "cell_type": "code",
   "execution_count": 20,
   "metadata": {},
   "outputs": [
    {
     "data": {
      "text/plain": [
       "'Mr'"
      ]
     },
     "execution_count": 20,
     "metadata": {},
     "output_type": "execute_result"
    }
   ],
   "source": [
    "n = \"Braund, Mr. Owen Harris\"\n",
    "n = n.split(\",\")[-1].split(\".\")[0]\n",
    "n.strip()"
   ]
  },
  {
   "cell_type": "code",
   "execution_count": 28,
   "metadata": {},
   "outputs": [
    {
     "data": {
      "text/plain": [
       "Index(['Mr', 'Miss', 'Mrs', 'Master'], dtype='object')"
      ]
     },
     "execution_count": 28,
     "metadata": {},
     "output_type": "execute_result"
    }
   ],
   "source": [
    "def nameflow(n):\n",
    "    n = n.split(\",\")[-1].split(\".\")[0]\n",
    "    return n.strip()\n",
    "mid = train_df[\"Name\"].apply(nameflow).value_counts()\n",
    "reserved = mid[mid > 30].index\n",
    "reserved"
   ]
  },
  {
   "cell_type": "code",
   "execution_count": 30,
   "metadata": {},
   "outputs": [],
   "source": [
    "def nameflow2(n):\n",
    "    n = n.split(\",\")[-1].split(\".\")[0]\n",
    "    n = n.strip()\n",
    "    if n in reserved:\n",
    "        return n\n",
    "    else:\n",
    "        return None\n",
    "train_df[\"Name\"] = train_df[\"Name\"].apply(nameflow2)\n",
    "test_df[\"Name\"] = test_df[\"Name\"].apply(nameflow2)"
   ]
  },
  {
   "cell_type": "code",
   "execution_count": 34,
   "metadata": {},
   "outputs": [],
   "source": [
    "x_train_nodrop = pd.get_dummies(train_df, \n",
    "                                columns=[\"Name\", \"Sex\", \"Embarked\"])\n",
    "x_test_nodrop = pd.get_dummies(test_df, \n",
    "                                columns=[\"Name\", \"Sex\", \"Embarked\"])"
   ]
  },
  {
   "cell_type": "code",
   "execution_count": 37,
   "metadata": {},
   "outputs": [],
   "source": [
    "x_train = x_train_nodrop.drop([\"PassengerId\", \"Survived\", \"Cabin\", \"Ticket\"], \n",
    "                               axis=1)\n",
    "y_train = x_train_nodrop[\"Survived\"]\n",
    "x_test = x_test_nodrop.drop([\"PassengerId\", \"Cabin\", \"Ticket\"], \n",
    "                               axis=1)\n",
    "testid = x_test_nodrop[\"PassengerId\"]"
   ]
  },
  {
   "cell_type": "code",
   "execution_count": null,
   "metadata": {},
   "outputs": [],
   "source": []
  }
 ],
 "metadata": {
  "kernelspec": {
   "display_name": "Python 3",
   "language": "python",
   "name": "python3"
  },
  "language_info": {
   "codemirror_mode": {
    "name": "ipython",
    "version": 3
   },
   "file_extension": ".py",
   "mimetype": "text/x-python",
   "name": "python",
   "nbconvert_exporter": "python",
   "pygments_lexer": "ipython3",
   "version": "3.7.6"
  }
 },
 "nbformat": 4,
 "nbformat_minor": 4
}
