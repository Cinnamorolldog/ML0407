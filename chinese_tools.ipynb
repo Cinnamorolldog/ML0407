{
 "cells": [
  {
   "cell_type": "code",
   "execution_count": 2,
   "metadata": {},
   "outputs": [],
   "source": [
    "with open(\"test.txt\", \"r\", encoding=\"utf-8\") as f:\n",
    "    article = f.read()"
   ]
  },
  {
   "cell_type": "code",
   "execution_count": 3,
   "metadata": {},
   "outputs": [
    {
     "data": {
      "text/plain": [
       "'為什麼會覺得煩呢？百也許讓我們學寫繁體中文的話，我度們可能會煩。\\n主要看所處的環境。\\n如果樓主問從一出生就學的是繁體中文答的話，現在讓你學寫簡體中文，你也會煩的。如果一個英語為母語的國家，讓他版們的人民學中文，不管是繁體還是簡體都會煩。權\\n要你用你的純母語來書寫，應該是最順手的吧'"
      ]
     },
     "execution_count": 3,
     "metadata": {},
     "output_type": "execute_result"
    }
   ],
   "source": [
    "# opencc-python-reimplemented\n",
    "from opencc import OpenCC\n",
    "cc = OpenCC('s2tw')  # convert from Simplified Chinese to Traditional Chinese\n",
    "# can also set conversion by calling set_conversion\n",
    "# cc.set_conversion('s2tw')\n",
    "converted = cc.convert(article)\n",
    "converted"
   ]
  },
  {
   "cell_type": "code",
   "execution_count": null,
   "metadata": {},
   "outputs": [],
   "source": []
  }
 ],
 "metadata": {
  "kernelspec": {
   "display_name": "Python 3",
   "language": "python",
   "name": "python3"
  },
  "language_info": {
   "codemirror_mode": {
    "name": "ipython",
    "version": 3
   },
   "file_extension": ".py",
   "mimetype": "text/x-python",
   "name": "python",
   "nbconvert_exporter": "python",
   "pygments_lexer": "ipython3",
   "version": "3.7.6"
  }
 },
 "nbformat": 4,
 "nbformat_minor": 4
}
